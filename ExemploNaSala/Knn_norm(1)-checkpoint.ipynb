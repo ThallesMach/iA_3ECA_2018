{
 "cells": [
  {
   "cell_type": "markdown",
   "metadata": {},
   "source": [
    "# Execução do Knn com normalização\n",
    "\n",
    "Seja o dataset “toothgrowth” disponível no site:\n",
    "https://stat.ethz.ch/R-manual/R-devel/library/datasets/html/ToothGrowth.html\n",
    "\n",
    "Ele guarda as observações de um estudo do crescimento dos incisivos de 60 porquinhos-da-índia que são separado em três grupos que recebem dosagens diárias de vitamina C diferentes. Em cada grupo, metade dos porquinhos recebem na forma de suco de laranja (OJ) e metade recebe na forma de vitamina C sintética (VC)\n",
    "Código para a visualização dos dados:"
   ]
  },
  {
   "cell_type": "code",
   "execution_count": 10,
   "metadata": {},
   "outputs": [
    {
     "data": {
      "text/plain": [
       "(0.4, 2.2, 0.0, 40.0)"
      ]
     },
     "execution_count": 10,
     "metadata": {},
     "output_type": "execute_result"
    },
    {
     "data": {
      "image/png": "[encoded data removed]",
      "text/plain": [
       "<matplotlib.figure.Figure at 0x7f167f10d4e0>"
      ]
     },
     "metadata": {},
     "output_type": "display_data"
    }
   ],
   "source": [
    "import pandas as pd\n",
    "import seaborn as sns\n",
    "import matplotlib.pyplot as plt\n",
    "\n",
    "url = \"https://vincentarelbundock.github.io/Rdatasets/csv/datasets/ToothGrowth.csv\"\n",
    "df = pd.read_csv(url)\n",
    "df = df[['dose', 'len', 'supp']] #Remove a primeira coluna\n",
    "sns.scatterplot('dose', 'len', hue='supp', data=df)\n",
    "plt.axis('equal')"
   ]
  },
  {
   "cell_type": "markdown",
   "metadata": {},
   "source": [
    "Observe a dimensão “dose” indica um valor na unidade miligramas, e a dimensão “len” está em uma unidade de comprimento. Para calcular as distâncias de um ponto a outro neste espaço de atributos, temos que somar as diferenças de dosagens (mg) e as diferenças de comprimento (décimos de mm), o que não faz sentido fisicamente falando"
   ]
  },
  {
   "cell_type": "markdown",
   "metadata": {},
   "source": [
    "Observe também que as tratar as distâncias em todas as direções (coordenadas) de forma igualitária não é razoável, uma vez que pequenas diferenças  em determinados atributos  são importantes para definir a classe da amostra, porém diferenças maiores aplicadas a outros atributos parecem não fazer tanta diferença\n",
    "\n",
    "Dessa forma, melhores resultados serão alcançados se fizermos um ajuste de escala nos dados, de forma equalizar a importância dos atributos para efeito de classificação. A esse ajuste vamos chamar de **normalização dos dados**.\n",
    "Uma normalização simples, mas efetiva, é aquela que torna cada vetor de atributos um conjunto de dados de *média zero* e *desvio padrão unitário*.\n",
    "\n",
    "Para tanto, basta deduzir os valores de cada vetor de atributos de sua média (`mean`) e dividir pelo desvio padrão (standard deviation, ou `std`)\n",
    "\n",
    "No Python, podemos operar sobre todos os campos de dados do DataFrame:  "
   ]
  },
  {
   "cell_type": "code",
   "execution_count": 2,
   "metadata": {},
   "outputs": [],
   "source": [
    "data = df[['dose', 'len']]\n",
    "data_norm = (data - data.mean())/data.std()"
   ]
  },
  {
   "cell_type": "markdown",
   "metadata": {},
   "source": [
    "## Executando o KNN\n",
    "\n",
    "Cada linha do dataframe `data_norm` de corresponde a uma amostra de treinamento. \n",
    "\n",
    "Dada uma amostra de teste `x`, temos que normalizar os atributos com os mesmos dados obtidos na fase de treinamento, ou seja, para a amostra de teste `x`, sua versão normalizada é:"
   ]
  },
  {
   "cell_type": "code",
   "execution_count": 3,
   "metadata": {},
   "outputs": [],
   "source": [
    "import numpy as np\n",
    "x = np.array([1.5, 10])\n",
    "x_norm = (x - data.mean())/data.std()"
   ]
  },
  {
   "cell_type": "markdown",
   "metadata": {},
   "source": [
    "Para calcularmos as distâncias temos que primeiro calcular as diferenças entre as coordenadas (colunas numéricas) de cada linha de `data_norm` para as coordenadas de `x_norm`, fazendo a matriz de diferenças:"
   ]
  },
  {
   "cell_type": "code",
   "execution_count": 4,
   "metadata": {},
   "outputs": [],
   "source": [
    "D = data_norm - x_norm"
   ]
  },
  {
   "cell_type": "markdown",
   "metadata": {},
   "source": [
    "Embora o número de colunas de `data_norm` e `x_norm` seja o mesmo, o dataframe contém várias entradas (linhas) enquanto a amostra de teste só tem uma. As operações entre essas matrizes se baseiam no princípio do *broadcasting*, pelo qual a dimensão unitária de um array é repetida várias vezes para casar com a mesma dimensão do outro array que está sendo processado.\n",
    "\n",
    "Mostrando os dados normalizados"
   ]
  },
  {
   "cell_type": "code",
   "execution_count": 5,
   "metadata": {},
   "outputs": [
    {
     "data": {
      "text/plain": [
       "(-1.5, 1.5, -3.0, 3.0)"
      ]
     },
     "execution_count": 5,
     "metadata": {},
     "output_type": "execute_result"
    },
    {
     "data": {
      "image/png": "[encoded data removed]",
      "text/plain": [
       "<matplotlib.figure.Figure at 0x7f167f0cc320>"
      ]
     },
     "metadata": {},
     "output_type": "display_data"
    }
   ],
   "source": [
    "sns.scatterplot('dose', 'len', hue=df['supp'], data=data_norm)\n",
    "plt.plot(x_norm[0], x_norm[1], 'kd')\n",
    "plt.axis('equal')"
   ]
  },
  {
   "cell_type": "markdown",
   "metadata": {},
   "source": [
    "Cálculo do vetor de distâncias ao quadrado, onde a soma é feita ao longo da segunda dimensão (eixo das colunas) de `D`: "
   ]
  },
  {
   "cell_type": "code",
   "execution_count": 6,
   "metadata": {},
   "outputs": [
    {
     "name": "stdout",
     "output_type": "stream",
     "text": [
      "<class 'pandas.core.frame.DataFrame'>\n",
      "RangeIndex: 60 entries, 0 to 59\n",
      "Data columns (total 2 columns):\n",
      "dose    60 non-null float64\n",
      "len     60 non-null float64\n",
      "dtypes: float64(2)\n",
      "memory usage: 1.0 KB\n",
      "None\n"
     ]
    }
   ],
   "source": [
    "print(D.info())\n",
    "dists2 = (D ** 2).sum(axis=1)"
   ]
  },
  {
   "cell_type": "markdown",
   "metadata": {},
   "source": [
    "Ordenação do vetor de distâncias quadráticas e recuperação dos índices:"
   ]
  },
  {
   "cell_type": "code",
   "execution_count": 7,
   "metadata": {},
   "outputs": [],
   "source": [
    "idx = np.argsort(dists2)"
   ]
  },
  {
   "cell_type": "markdown",
   "metadata": {},
   "source": [
    "Agora as distâncias ordenadas podem ser recuperadas através de: `dists2_ord = dists2[idx]`.\n",
    "Contando os `k` vizinhos pertencentes a cada classe:"
   ]
  },
  {
   "cell_type": "code",
   "execution_count": 8,
   "metadata": {},
   "outputs": [
    {
     "name": "stdout",
     "output_type": "stream",
     "text": [
      "A classe para k =  7 é:  VC\n"
     ]
    }
   ],
   "source": [
    "k = 7\n",
    "n_OJ = np.count_nonzero(df['supp'][idx[:k]]=='OJ')\n",
    "n_VC = np.count_nonzero(df['supp'][idx[:k]]=='VC')\n",
    "\n",
    "classe = ['OJ', 'VC'][np.argmax([n_OJ, n_VC])]\n",
    "print(\"A classe para k = \", k, \"é: \", classe)"
   ]
  },
  {
   "cell_type": "markdown",
   "metadata": {},
   "source": [
    "## Exercício:\n",
    "\n",
    "Dado  o dataframe `peixes` abaixo Qual é o resultado da classificação por kNN para o vetor de teste v=(x=4,0; l=20,8), considerando k=1 e k=3, respectivamente, realizando a normalização pelo desvio padrão?"
   ]
  },
  {
   "cell_type": "code",
   "execution_count": 9,
   "metadata": {},
   "outputs": [
    {
     "data": {
      "text/html": [
       "<div>\n",
       "<style scoped>\n",
       "    .dataframe tbody tr th:only-of-type {\n",
       "        vertical-align: middle;\n",
       "    }\n",
       "\n",
       "    .dataframe tbody tr th {\n",
       "        vertical-align: top;\n",
       "    }\n",
       "\n",
       "    .dataframe thead th {\n",
       "        text-align: right;\n",
       "    }\n",
       "</style>\n",
       "<table border=\"1\" class=\"dataframe\">\n",
       "  <thead>\n",
       "    <tr style=\"text-align: right;\">\n",
       "      <th></th>\n",
       "      <th>brilho</th>\n",
       "      <th>comprimento</th>\n",
       "      <th>especie</th>\n",
       "    </tr>\n",
       "  </thead>\n",
       "  <tbody>\n",
       "    <tr>\n",
       "      <th>0</th>\n",
       "      <td>3.5</td>\n",
       "      <td>21.0</td>\n",
       "      <td>Salmão</td>\n",
       "    </tr>\n",
       "    <tr>\n",
       "      <th>1</th>\n",
       "      <td>3.5</td>\n",
       "      <td>21.5</td>\n",
       "      <td>Badejo</td>\n",
       "    </tr>\n",
       "    <tr>\n",
       "      <th>2</th>\n",
       "      <td>3.5</td>\n",
       "      <td>20.2</td>\n",
       "      <td>Badejo</td>\n",
       "    </tr>\n",
       "    <tr>\n",
       "      <th>3</th>\n",
       "      <td>3.5</td>\n",
       "      <td>20.0</td>\n",
       "      <td>Badejo</td>\n",
       "    </tr>\n",
       "    <tr>\n",
       "      <th>4</th>\n",
       "      <td>4.5</td>\n",
       "      <td>21.0</td>\n",
       "      <td>Salmão</td>\n",
       "    </tr>\n",
       "    <tr>\n",
       "      <th>5</th>\n",
       "      <td>5.0</td>\n",
       "      <td>21.0</td>\n",
       "      <td>Salmão</td>\n",
       "    </tr>\n",
       "  </tbody>\n",
       "</table>\n",
       "</div>"
      ],
      "text/plain": [
       "   brilho  comprimento especie\n",
       "0     3.5         21.0  Salmão\n",
       "1     3.5         21.5  Badejo\n",
       "2     3.5         20.2  Badejo\n",
       "3     3.5         20.0  Badejo\n",
       "4     4.5         21.0  Salmão\n",
       "5     5.0         21.0  Salmão"
      ]
     },
     "execution_count": 9,
     "metadata": {},
     "output_type": "execute_result"
    }
   ],
   "source": [
    "peixes =  pd.DataFrame.from_dict({\n",
    "    \"especie\": [\"Salmão\", \"Badejo\", \"Badejo\", \"Badejo\", \"Salmão\", \"Salmão\"],\n",
    "    \"brilho\" : [3.5, 3.5, 3.5, 3.5, 4.5, 5],\n",
    "    \"comprimento\" : [21, 21.5, 20.2, 20, 21, 21] \n",
    "})\n",
    "peixes"
   ]
  }
 ],
 "metadata": {
  "kernelspec": {
   "display_name": "Python 3",
   "language": "python",
   "name": "python3"
  },
  "language_info": {
   "codemirror_mode": {
    "name": "ipython",
    "version": 3
   },
   "file_extension": ".py",
   "mimetype": "text/x-python",
   "name": "python",
   "nbconvert_exporter": "python",
   "pygments_lexer": "ipython3",
   "version": "3.6.4"
  }
 },
 "nbformat": 4,
 "nbformat_minor": 2
}
